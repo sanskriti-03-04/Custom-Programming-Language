{
  "nbformat": 4,
  "nbformat_minor": 0,
  "metadata": {
    "colab": {
      "provenance": [],
      "authorship_tag": "ABX9TyMHMFgYrn6p5klWNS33Fpie",
      "include_colab_link": true
    },
    "kernelspec": {
      "name": "python3",
      "display_name": "Python 3"
    },
    "language_info": {
      "name": "python"
    }
  },
  "cells": [
    {
      "cell_type": "markdown",
      "metadata": {
        "id": "view-in-github",
        "colab_type": "text"
      },
      "source": [
        "<a href=\"https://colab.research.google.com/github/sanskriti-03-04/Custom-Programming-Language/blob/main/MyLang.ipynb\" target=\"_parent\"><img src=\"https://colab.research.google.com/assets/colab-badge.svg\" alt=\"Open In Colab\"/></a>"
      ]
    },
    {
      "cell_type": "markdown",
      "source": [
        "# 🔹 Lexer – Tokenizing Source Code\n",
        "\n",
        "## 📌 Purpose\n",
        "The lexer breaks down raw source code into individual tokens. These tokens represent the atomic building blocks of our programming language — such as numbers, identifiers, keywords, operators, and symbols.\n",
        "\n",
        "## 🔍 How It Works\n",
        "- Uses Python's `re` module to apply regular expression patterns.\n",
        "- Identifies and labels tokens like `NUMBER`, `ID`, `PLUS`, `EQUAL`, `PRINT`, etc.\n",
        "- Automatically classifies identifiers like `print`, `if`, and `while` as keywords.\n",
        "- Ignores whitespace and raises syntax errors for unknown characters.\n",
        "\n",
        "## ✅ Features\n",
        "- Supports arithmetic (`+`, `-`, `*`, `/`)\n",
        "- Supports comparison (`==`, `!=`, `<`, `>`, `<=`, `>=`)\n",
        "- Recognizes parentheses, assignment, and colons\n",
        "- Converts keywords to token types (e.g., `print` → `PRINT`)\n",
        "- Skips whitespace and newlines\n",
        "- Easily extensible via `TOKEN_SPEC`\n",
        "\n",
        "## 🧪 Example\n",
        "\n",
        "```python\n",
        "Source Code:\n",
        "a = 5 + 3\n",
        "\n",
        "Token Output:\n",
        "[('ID', 'a'), ('ASSIGN', '='), ('NUMBER', 5), ('PLUS', '+'), ('NUMBER', 3)]\n"
      ],
      "metadata": {
        "id": "0iznzwxJcM3Q"
      }
    },
    {
      "cell_type": "code",
      "source": [
        "import re\n",
        "\n",
        "KEYWORDS = {\n",
        "    'def': 'DEF',\n",
        "    'return': 'RETURN',\n",
        "    'if': 'IF',\n",
        "    'else': 'ELSE',\n",
        "    'while': 'WHILE',\n",
        "    'print': 'PRINT',\n",
        "}\n",
        "\n",
        "\n",
        "TOKEN_SPEC = [\n",
        "    ('NUMBER',   r'\\d+'),\n",
        "    ('ID',       r'[A-Za-z_][A-Za-z0-9_]*'),\n",
        "    ('EQ',       r'=='),\n",
        "    ('NE',       r'!='),\n",
        "    ('LE',       r'<='),\n",
        "    ('GE',       r'>='),\n",
        "    ('LT',       r'<'),\n",
        "    ('GT',       r'>'),\n",
        "    ('ASSIGN',   r'='),\n",
        "    ('PLUS',     r'\\+'),\n",
        "    ('MINUS',    r'-'),\n",
        "    ('MUL',      r'\\*'),\n",
        "    ('DIV',      r'/'),\n",
        "    ('LPAREN',   r'\\('),\n",
        "    ('RPAREN',   r'\\)'),\n",
        "    ('COLON',    r':'),\n",
        "    ('NEWLINE',  r'\\n'),\n",
        "    ('SKIP',     r'[ \\t]+'),\n",
        "    ('COMMA',    r','),\n",
        "    ('MISMATCH', r'.'),\n",
        "     ('DEF',      r'\\bdef\\b'),         # Optional if not handled by KEYWORDS\n",
        "    ('RETURN',   r'\\breturn\\b'),      # Optional if not handled by KEYWORDS\n",
        "\n",
        "\n",
        "]\n",
        "\n",
        "TOK_REGEX = '|'.join(f'(?P<{name}>{regex})' for name, regex in TOKEN_SPEC)\n",
        "\n",
        "def tokenize(code):\n",
        "    lineno = 1\n",
        "    line_start = 0\n",
        "    for mo in re.finditer(TOK_REGEX, code):\n",
        "        kind = mo.lastgroup\n",
        "        value = mo.group()\n",
        "        if kind == 'NUMBER':\n",
        "            value = int(value)\n",
        "        elif kind == 'ID' and value in KEYWORDS:\n",
        "            kind = value.upper()\n",
        "        elif kind == 'SKIP':\n",
        "            continue\n",
        "        elif kind == 'NEWLINE':\n",
        "            lineno += 1\n",
        "            line_start = mo.end()\n",
        "            continue\n",
        "        elif kind == 'MISMATCH':\n",
        "            raise SyntaxError(f'Unexpected character {value!r} on line {lineno}')\n",
        "        yield (kind, value)"
      ],
      "metadata": {
        "id": "HXAzZa0cboDy"
      },
      "execution_count": 29,
      "outputs": []
    },
    {
      "cell_type": "markdown",
      "source": [
        "# 🔹 AST Design – Abstract Syntax Tree for MyLang\n",
        "\n",
        "## 📌 Purpose\n",
        "The **Abstract Syntax Tree (AST)** is a hierarchical representation of the program structure. It eliminates irrelevant syntax (like parentheses or semicolons) and focuses on the actual meaning of the program — making it easier to **interpret, optimize, or compile**.\n",
        "\n",
        "## 🔧 Why Use an AST?\n",
        "- Clearly separates structure from raw syntax\n",
        "- Enables evaluation, code generation, and transformation\n",
        "- Makes it easy to apply recursion and scope\n",
        "\n",
        "---\n",
        "\n",
        "## 🧱 Core AST Node Types\n",
        "\n",
        "### 🧮 Literals and Variables\n",
        "```python\n",
        "class Number:\n",
        "    def __init__(self, value): self.value = value\n",
        "\n",
        "class Var:\n",
        "    def __init__(self, name): self.name = name\n"
      ],
      "metadata": {
        "id": "ZCpvtAYygUtG"
      }
    },
    {
      "cell_type": "code",
      "source": [
        "class ASTNode: pass\n",
        "\n",
        "class Number(ASTNode):\n",
        "    def __init__(self, value): self.value = value\n",
        "\n",
        "class Var(ASTNode):\n",
        "    def __init__(self, name): self.name = name\n",
        "\n",
        "class BinOp(ASTNode):\n",
        "    def __init__(self, left, op, right):\n",
        "        self.left = left\n",
        "        self.op = op\n",
        "        self.right = right\n",
        "\n",
        "class Assign(ASTNode):\n",
        "    def __init__(self, name, expr):\n",
        "        self.name = name\n",
        "        self.expr = expr\n",
        "\n",
        "class Print(ASTNode):\n",
        "    def __init__(self, expr): self.expr = expr\n",
        "\n",
        "class Block(ASTNode):\n",
        "    def __init__(self, statements): self.statements = statements\n",
        "\n",
        "class If(ASTNode):\n",
        "    def __init__(self, condition, then_branch, else_branch=None):\n",
        "        self.condition = condition\n",
        "        self.then_branch = then_branch\n",
        "        self.else_branch = else_branch\n",
        "\n",
        "class While(ASTNode):\n",
        "    def __init__(self, condition, body):\n",
        "        self.condition = condition\n",
        "        self.body = body\n",
        "class FunctionDef(ASTNode):\n",
        "    def __init__(self, name, params, body):\n",
        "        self.name = name\n",
        "        self.params = params  # list of parameter names\n",
        "        self.body = body      # typically a Block\n",
        "\n",
        "class Call(ASTNode):\n",
        "    def __init__(self, name, args):\n",
        "        self.name = name\n",
        "        self.args = args      # list of expressions\n",
        "\n",
        "class Return(ASTNode):\n",
        "    def __init__(self, value):\n",
        "        self.value = value\n"
      ],
      "metadata": {
        "id": "HuvdQ3uebpuh"
      },
      "execution_count": 3,
      "outputs": []
    },
    {
      "cell_type": "markdown",
      "source": [
        "# 🔹 Parser – Building the Abstract Syntax Tree (AST)\n",
        "\n",
        "## 📌 Purpose\n",
        "The parser takes the token stream produced by the lexer and builds an **Abstract Syntax Tree (AST)** — a structured representation of the source code’s meaning.\n",
        "\n",
        "## 🔍 How It Works\n",
        "- Implements a **recursive descent parser**\n",
        "- Handles arithmetic expressions with correct **precedence**\n",
        "- Supports variable assignment and `print` statements\n",
        "- Constructs AST nodes like `Assign`, `BinOp`, `Var`, `Number`, and `Print`\n",
        "\n",
        "## 🧱 AST Nodes Implemented\n",
        "- `Number(value)`: Represents numeric literals\n",
        "- `Var(name)`: Represents variables\n",
        "- `Assign(name, expr)`: Variable assignment\n",
        "- `BinOp(left, op, right)`: Binary operations (`+`, `-`, `*`, `/`)\n",
        "- `Print(expr)`: Output expression result\n",
        "\n",
        "## 🔁 Precedence Rules\n",
        "- `term()` → `*` and `/`\n",
        "- `expr()` → `+` and `-`\n",
        "- `factor()` → numbers, identifiers, parentheses\n",
        "\n",
        "## 🧪 Example\n",
        "\n",
        "```python\n",
        "Code:\n",
        "a = 3 + 2 * 5\n",
        "print(a)\n",
        "\n",
        "AST:\n",
        "Assign('a', BinOp(Number(3), '+', BinOp(Number(2), '*', Number(5))))\n",
        "Print(Var('a'))\n"
      ],
      "metadata": {
        "id": "fNiUCVJUgdxi"
      }
    },
    {
      "cell_type": "code",
      "source": [
        "class Parser:\n",
        "    def __init__(self, tokens):\n",
        "        self.tokens = list(tokens)\n",
        "        self.pos = 0\n",
        "\n",
        "    def current(self):\n",
        "        return self.tokens[self.pos] if self.pos < len(self.tokens) else (None, None)\n",
        "\n",
        "    def eat(self, kind):\n",
        "        tok = self.current()\n",
        "        if tok[0] == kind:\n",
        "            self.pos += 1\n",
        "            return tok\n",
        "        raise SyntaxError(f'Expected {kind}, got {tok[0]}')\n",
        "\n",
        "    def parse(self):\n",
        "        stmts = []\n",
        "        while self.pos < len(self.tokens):\n",
        "            stmt = self.statement()\n",
        "            if stmt:\n",
        "                stmts.append(stmt)\n",
        "            else:\n",
        "                # Handle potential infinite loop if statement() returns None without consuming tokens\n",
        "                if self.pos < len(self.tokens) and self.current()[0] not in ('NEWLINE', 'SKIP'):\n",
        "                     raise SyntaxError(f\"Unexpected token at the beginning of a statement: {self.current()}\")\n",
        "                # If statement() returned None because of SKIP or NEWLINE, just continue the loop\n",
        "                elif self.pos < len(self.tokens) and self.current()[0] in ('NEWLINE', 'SKIP'):\n",
        "                     continue\n",
        "                else:\n",
        "                    break # Exit loop if no statement is parsed and no more tokens\n",
        "\n",
        "        return Block(stmts)\n",
        "\n",
        "\n",
        "    def statement(self):\n",
        "        tok = self.current()\n",
        "        if tok[0] == 'ID':\n",
        "            # Handle function calls\n",
        "            if self.pos + 1 < len(self.tokens) and self.tokens[self.pos + 1][0] == 'LPAREN':\n",
        "                func_name = self.eat('ID')[1]\n",
        "                self.eat('LPAREN')\n",
        "                args = []\n",
        "                if self.current()[0] != 'RPAREN':\n",
        "                    args.append(self.expr())\n",
        "                    while self.current()[0] == 'COMMA':\n",
        "                        self.eat('COMMA')\n",
        "                        args.append(self.expr())\n",
        "                self.eat('RPAREN')\n",
        "                # Optional newline after function call\n",
        "                if self.current()[0] == 'NEWLINE':\n",
        "                    self.eat('NEWLINE')\n",
        "                return Call(func_name, args)\n",
        "            else:\n",
        "                # Handle variable assignment\n",
        "                var = self.eat('ID')[1]\n",
        "                self.eat('ASSIGN')\n",
        "                expr = self.expr()\n",
        "                # Optional newline after assignment\n",
        "                if self.current()[0] == 'NEWLINE':\n",
        "                    self.eat('NEWLINE')\n",
        "                return Assign(var, expr)\n",
        "        elif tok[0] == 'PRINT':\n",
        "            self.eat('PRINT')\n",
        "            expr = self.expr()\n",
        "            # Optional newline after print\n",
        "            if self.current()[0] == 'NEWLINE':\n",
        "                self.eat('NEWLINE')\n",
        "            return Print(expr)\n",
        "        elif tok[0] == 'IF':\n",
        "            self.eat('IF')\n",
        "            cond = self.expr()\n",
        "            self.eat('COLON')  # Expect a colon after the condition\n",
        "            # Optional newline after the colon for single-line if statements\n",
        "            if self.current()[0] == 'NEWLINE':\n",
        "                self.eat('NEWLINE')\n",
        "\n",
        "            then_branch_statements = []\n",
        "            # Parse statements in the then branch until ELSE or end of tokens\n",
        "            while self.pos < len(self.tokens) and self.current()[0] != 'ELSE':\n",
        "                 stmt = self.statement()\n",
        "                 if stmt:\n",
        "                     then_branch_statements.append(stmt)\n",
        "                 else:\n",
        "                     break # Exit if statement() returns None\n",
        "            then_branch = Block(then_branch_statements)\n",
        "\n",
        "\n",
        "            else_branch = None\n",
        "            if self.current()[0] == 'ELSE':\n",
        "                self.eat('ELSE')\n",
        "                self.eat('COLON')  # Expect a colon after ELSE\n",
        "                # Optional newline after the colon for single-line else statements\n",
        "                if self.current()[0] == 'NEWLINE':\n",
        "                    self.eat('NEWLINE')\n",
        "\n",
        "                else_branch_statements = []\n",
        "                # Parse statements in the else branch until end of tokens\n",
        "                while self.pos < len(self.tokens):\n",
        "                    stmt = self.statement()\n",
        "                    if stmt:\n",
        "                        else_branch_statements.append(stmt)\n",
        "                    else:\n",
        "                        break # Exit if statement() returns None\n",
        "                else_branch = Block(else_branch_statements)\n",
        "\n",
        "            return If(cond, then_branch, else_branch)\n",
        "        elif tok[0] == 'WHILE':\n",
        "            self.eat('WHILE')\n",
        "            condition = self.expr()\n",
        "            self.eat('COLON')  # Expect a colon after the condition\n",
        "            # Optional newline after the colon for single-line while statements\n",
        "            if self.current()[0] == 'NEWLINE':\n",
        "                self.eat('NEWLINE')\n",
        "\n",
        "            body_statements = []\n",
        "            # Parse statements in the while body until end of tokens or a non-indented line\n",
        "            while self.pos < len(self.tokens): # Need a better way to handle indented blocks\n",
        "                stmt = self.statement()\n",
        "                if stmt:\n",
        "                    body_statements.append(stmt)\n",
        "                else:\n",
        "                    break # Exit if statement() returns None\n",
        "            body = Block(body_statements)\n",
        "            return While(condition, body)\n",
        "\n",
        "        elif tok[0] == 'DEF':\n",
        "            self.eat('DEF')\n",
        "            func_name = self.eat('ID')[1]\n",
        "            self.eat('LPAREN')\n",
        "            params = []\n",
        "            if self.current()[0] != 'RPAREN':\n",
        "                params.append(self.eat('ID')[1])\n",
        "                while self.current()[0] == 'COMMA':\n",
        "                    self.eat('COMMA')\n",
        "                    params.append(self.eat('ID')[1])\n",
        "            self.eat('RPAREN')\n",
        "            if self.current()[0] == 'COLON':\n",
        "                self.eat('COLON')\n",
        "            body = Block([self.statement()]) # This needs to handle blocks of statements, not just one\n",
        "            return FunctionDef(func_name, params, body)\n",
        "\n",
        "        elif tok[0] == 'RETURN':\n",
        "            self.eat('RETURN')\n",
        "            value = self.expr()\n",
        "            return Return(value)\n",
        "\n",
        "        elif tok[0] == 'NEWLINE':\n",
        "            self.eat('NEWLINE')\n",
        "            return None # Skip newlines between statements\n",
        "        elif tok[0] == 'SKIP':\n",
        "            self.eat('SKIP')\n",
        "            return None # Skip whitespace\n",
        "        else:\n",
        "            return None # No statement matched\n",
        "\n",
        "\n",
        "\n",
        "    def expr(self):\n",
        "        left = self.term()\n",
        "        while self.current()[0] in ('PLUS', 'MINUS', 'EQ', 'NE', 'LE', 'GE', 'LT', 'GT'): # Added comparison operators\n",
        "            op = self.eat(self.current()[0])[1]\n",
        "            right = self.term()\n",
        "            left = BinOp(left, op, right)\n",
        "        return left\n",
        "\n",
        "    def term(self):\n",
        "        left = self.factor()\n",
        "        while self.current()[0] in ('MUL', 'DIV'):\n",
        "            op = self.eat(self.current()[0])[1]\n",
        "            right = self.factor()\n",
        "            left = BinOp(left, op, right)\n",
        "        return left\n",
        "\n",
        "    def factor(self):\n",
        "        tok = self.current()\n",
        "        if tok[0] == 'NUMBER':\n",
        "            return Number(self.eat('NUMBER')[1])\n",
        "        elif tok[0] == 'ID':\n",
        "            # Handle function calls\n",
        "            if self.pos + 1 < len(self.tokens) and self.tokens[self.pos + 1][0] == 'LPAREN':\n",
        "                func_name = self.eat('ID')[1]\n",
        "                self.eat('LPAREN')\n",
        "                args = []\n",
        "                if self.current()[0] != 'RPAREN':\n",
        "                    args.append(self.expr())\n",
        "                    while self.current()[0] == 'COMMA':\n",
        "                        self.eat('COMMA')\n",
        "                        args.append(self.expr())\n",
        "                self.eat('RPAREN')\n",
        "                return Call(func_name, args)\n",
        "            else:\n",
        "                return Var(self.eat('ID')[1])\n",
        "        elif tok[0] == 'LPAREN':\n",
        "            self.eat('LPAREN')\n",
        "            expr = self.expr()\n",
        "            self.eat('RPAREN')\n",
        "            return expr\n",
        "        else:\n",
        "            raise SyntaxError(f'Unexpected token: {tok}')"
      ],
      "metadata": {
        "id": "DxMq9OJTbvqA"
      },
      "execution_count": 5,
      "outputs": []
    },
    {
      "cell_type": "code",
      "source": [
        "class BinOp:\n",
        "    def __init__(self, left, op, right):\n",
        "        self.left = left\n",
        "        self.op = op\n",
        "        self.right = right\n",
        "\n",
        "class Assign:\n",
        "    def __init__(self, name, expr):\n",
        "        self.name = name\n",
        "        self.expr = expr\n"
      ],
      "metadata": {
        "id": "4WF5USIteMCU"
      },
      "execution_count": null,
      "outputs": []
    },
    {
      "cell_type": "code",
      "source": [
        "class Print:\n",
        "    def __init__(self, expr): self.expr = expr\n"
      ],
      "metadata": {
        "id": "XcF3MLgxeP49"
      },
      "execution_count": null,
      "outputs": []
    },
    {
      "cell_type": "code",
      "source": [
        "class If:\n",
        "    def __init__(self, condition, then_branch, else_branch):\n",
        "        self.condition = condition\n",
        "        self.then_branch = then_branch\n",
        "        self.else_branch = else_branch\n",
        "\n",
        "class While:\n",
        "    def __init__(self, condition, body):\n",
        "        self.condition = condition\n",
        "        self.body = body"
      ],
      "metadata": {
        "id": "ktj4fsaMeSOM"
      },
      "execution_count": null,
      "outputs": []
    },
    {
      "cell_type": "markdown",
      "source": [
        "# 🔹 Interpreter – Executing the AST\n",
        "\n",
        "## 📌 Purpose\n",
        "The interpreter traverses the Abstract Syntax Tree (AST) and executes the program **directly in memory** — without compiling it to another form like bytecode.\n",
        "\n",
        "This is called a **tree-walking interpreter**, where each node is evaluated recursively.\n",
        "\n",
        "---\n",
        "\n",
        "## ⚙️ How It Works\n",
        "- Maintains a global environment (`env`) as a dictionary\n",
        "- Evaluates expressions like `3 + 4 * 2` using AST `BinOp` nodes\n",
        "- Supports variable declarations and usage\n",
        "- Executes print statements by evaluating and printing the expression result\n",
        "\n",
        "---\n",
        "\n",
        "## 🧱 Execution Examples\n",
        "\n",
        "### Sample Source Code:\n",
        "```my\n",
        "a = 3 + 2 * 5\n",
        "print(a)\n"
      ],
      "metadata": {
        "id": "D7Rgd2zxdj8p"
      }
    },
    {
      "cell_type": "code",
      "source": [
        "class Interpreter:\n",
        "    def __init__(self):\n",
        "        self.env = {}\n",
        "\n",
        "    def eval(self, node):\n",
        "        if isinstance(node, Number):\n",
        "            return node.value\n",
        "\n",
        "        elif isinstance(node, Var):\n",
        "            if node.name not in self.env:\n",
        "                raise NameError(f\"Undefined variable '{node.name}'\")\n",
        "            return self.env[node.name]\n",
        "\n",
        "        elif isinstance(node, BinOp):\n",
        "            left = self.eval(node.left)\n",
        "            right = self.eval(node.right)\n",
        "            if node.op == '+': return left + right\n",
        "            elif node.op == '-': return left - right\n",
        "            elif node.op == '*': return left * right\n",
        "            elif node.op == '/': return left // right\n",
        "            else:\n",
        "                raise RuntimeError(f\"Unknown operator {node.op}\")\n",
        "\n",
        "        elif isinstance(node, Assign):\n",
        "            value = self.eval(node.expr)\n",
        "            self.env[node.name] = value\n",
        "\n",
        "        elif isinstance(node, Print):\n",
        "            value = self.eval(node.expr)\n",
        "            print(value)\n",
        "\n",
        "        elif isinstance(node, Block):\n",
        "            for stmt in node.statements:\n",
        "                self.eval(stmt)\n",
        "\n",
        "        else:\n",
        "            raise RuntimeError(f\"Unknown AST node {type(node).__name__}\")\n"
      ],
      "metadata": {
        "id": "DqsoUfkLea6c"
      },
      "execution_count": null,
      "outputs": []
    },
    {
      "cell_type": "code",
      "source": [
        "code = \"\"\"\n",
        "a = 5\n",
        "b = a + 3 * 2\n",
        "print(b)\n",
        "\"\"\"\n",
        "\n",
        "tokens = tokenize(code)\n",
        "parser = Parser(tokens)\n",
        "ast = parser.parse()\n",
        "\n",
        "interpreter = Interpreter()\n",
        "for stmt in ast.statements:\n",
        "    interpreter.eval(stmt)\n",
        "\n"
      ],
      "metadata": {
        "colab": {
          "base_uri": "https://localhost:8080/"
        },
        "id": "IufahiRVenRR",
        "outputId": "5c161d56-c541-44f6-f8f1-bc3658fce8d3"
      },
      "execution_count": null,
      "outputs": [
        {
          "output_type": "stream",
          "name": "stdout",
          "text": [
            "11\n"
          ]
        }
      ]
    },
    {
      "cell_type": "markdown",
      "source": [
        "# 🔹 Phase 2 – Bytecode Compiler and Virtual Machine\n",
        "\n",
        "## 📌 Overview\n",
        "We’ve now upgraded `MyLang` to use a **compiler + VM** architecture. This simulates how real programming languages are executed under the hood.\n",
        "\n",
        "---\n",
        "\n",
        "## 🛠 How It Works\n",
        "\n",
        "### ✅ Compiler\n",
        "- Traverses the AST\n",
        "- Emits bytecode instructions using a **stack-based model**\n",
        "- Example instruction: `PUSH 3`, `MUL`, `STORE a`\n",
        "\n",
        "### ✅ Virtual Machine\n",
        "- Executes instructions using:\n",
        "  - A **stack** for temporary values\n",
        "  - An **environment** for variables\n",
        "\n",
        "---\n",
        "\n",
        "## 🧪 Example Program\n",
        "\n",
        "```my\n",
        "a = 5\n",
        "b = a + 3 * 2\n",
        "print(b)\n"
      ],
      "metadata": {
        "id": "svjrJddig7hi"
      }
    },
    {
      "cell_type": "code",
      "source": [
        "class Compiler:\n",
        "    def __init__(self):\n",
        "        self.instructions = []\n",
        "        self.functions = {}  # name -> instruction start index\n",
        "\n",
        "    def compile(self, node):\n",
        "        if isinstance(node, Number):\n",
        "            self.instructions.append(('PUSH', node.value))\n",
        "\n",
        "        elif isinstance(node, Var):\n",
        "            self.instructions.append(('LOAD', node.name))\n",
        "\n",
        "        elif isinstance(node, BinOp):\n",
        "            self.compile(node.left)\n",
        "            self.compile(node.right)\n",
        "            if node.op == '+': self.instructions.append(('ADD',))\n",
        "            elif node.op == '-': self.instructions.append(('SUB',))\n",
        "            elif node.op == '*': self.instructions.append(('MUL',))\n",
        "            elif node.op == '/': self.instructions.append(('DIV',))\n",
        "            # Handle comparison operators\n",
        "            elif node.op == '==': self.instructions.append(('EQ',))\n",
        "            elif node.op == '!=': self.instructions.append(('NE',))\n",
        "            elif node.op == '<=': self.instructions.append(('LE',))\n",
        "            elif node.op == '>=': self.instructions.append(('GE',))\n",
        "            elif node.op == '<': self.instructions.append(('LT',))\n",
        "            elif node.op == '>': self.instructions.append(('GT',))\n",
        "\n",
        "\n",
        "        elif isinstance(node, Assign):\n",
        "            self.compile(node.expr)\n",
        "            self.instructions.append(('STORE', node.name))\n",
        "\n",
        "        elif isinstance(node, Print):\n",
        "            self.compile(node.expr)\n",
        "            self.instructions.append(('PRINT',))\n",
        "\n",
        "        elif isinstance(node, Block):\n",
        "            for stmt in node.statements:\n",
        "                self.compile(stmt)\n",
        "        elif isinstance(node, If):\n",
        "            self.compile(node.condition)\n",
        "            jump_if_false_index = len(self.instructions)\n",
        "            self.instructions.append(('JUMP_IF_FALSE', None))  # placeholder\n",
        "            self.compile(node.then_branch)\n",
        "            jump_index = len(self.instructions)\n",
        "            self.instructions.append(('JUMP', None))  # unconditional jump after then_branch\n",
        "            self.instructions[jump_if_false_index] = ('JUMP_IF_FALSE', len(self.instructions))\n",
        "            if node.else_branch:\n",
        "              self.compile(node.else_branch)\n",
        "              self.instructions[jump_index] = ('JUMP', len(self.instructions))\n",
        "            else:\n",
        "              # This else block is for the case where there is no else_branch in the AST\n",
        "              # The previous else branch was incorrectly raising an error here.\n",
        "              # We don't need to do anything if there's no else branch, as the JUMP_IF_FALSE\n",
        "              # will handle skipping the then_branch if the condition is false.\n",
        "              pass\n",
        "        elif isinstance(node, While):\n",
        "            loop_start_index = len(self.instructions)\n",
        "            self.compile(node.condition)\n",
        "            jump_if_false_index = len(self.instructions)\n",
        "            self.instructions.append(('JUMP_IF_FALSE', None))  # placeholder\n",
        "            self.compile(node.body)\n",
        "            self.instructions.append(('JUMP', loop_start_index))\n",
        "            self.instructions[jump_if_false_index] = ('JUMP_IF_FALSE', len(self.instructions))\n",
        "        elif isinstance(node, FunctionDef):\n",
        "            self.functions[node.name] = len(self.instructions)\n",
        "            self.instructions.append(('FUNC', node.name, node.params))\n",
        "            self.compile(node.body)\n",
        "            self.instructions.append(('RET',))\n",
        "\n",
        "        elif isinstance(node, Call):\n",
        "            for arg in node.args:\n",
        "                self.compile(arg)\n",
        "            self.instructions.append(('CALL', node.name, len(node.args)))\n",
        "\n",
        "        elif isinstance(node, Return):\n",
        "            self.compile(node.value)\n",
        "            self.instructions.append(('RET',))\n",
        "\n",
        "        else:\n",
        "            raise RuntimeError(f\"Unknown AST node: {type(node).__name__}\")\n",
        "        return self.instructions, self.functions\n",
        "        if isinstance(node, FunctionDef):\n",
        "          self.functions[node.name] = len(self.instructions)\n",
        "          self.instructions.append(('FUNC', node.name, node.params))\n",
        "          self.compile(node.body)\n",
        "          self.instructions.append(('RET',))  # Function RET only\n",
        "        elif isinstance(node, Return):\n",
        "          self.compile(node.value)\n",
        "          self.instructions.append(('RET',))\n",
        "        elif isinstance(node, Return):\n",
        "          self.compile_node(node.value)\n",
        "          self.bytecode.append(('RET',))\n"
      ],
      "metadata": {
        "id": "KUz9BFCCg8xU"
      },
      "execution_count": 23,
      "outputs": []
    },
    {
      "cell_type": "code",
      "source": [
        "class VirtualMachine:\n",
        "    def __init__(self):\n",
        "        self.stack = []\n",
        "        self.env = {}  # global\n",
        "        self.functions = {}\n",
        "        self.frames = []  # call stack\n",
        "\n",
        "    def run(self, instructions, functions):\n",
        "        self.functions = functions\n",
        "        pc = 0\n",
        "        local_env = {}\n",
        "\n",
        "        while pc < len(instructions):\n",
        "            instr = instructions[pc]\n",
        "            op = instr[0]\n",
        "\n",
        "            if op == 'FUNC':\n",
        "                # Already stored in compiler.functions, skip body execution now\n",
        "                while pc < len(instructions) and instructions[pc][0] != 'RET':\n",
        "                    pc += 1\n",
        "                pc += 1\n",
        "                continue\n",
        "\n",
        "            elif op == 'CALL':\n",
        "                name, arg_count = instr[1], instr[2]\n",
        "                args = [self.stack.pop() for _ in range(arg_count)][::-1]\n",
        "\n",
        "                func_pc = self.functions[name]\n",
        "                # func_instr = instructions[func_pc] # This line is not needed\n",
        "\n",
        "                param_names = instructions[func_pc][2] # Get params from the FUNC instruction\n",
        "                new_env = dict(zip(param_names, args))\n",
        "\n",
        "                self.frames.append((pc + 1, local_env, self.stack.copy()))  # Save current state (return address, local env, current stack)\n",
        "                local_env = new_env\n",
        "                self.stack = [] # New stack for the function\n",
        "                pc = func_pc + 1\n",
        "                continue\n",
        "                if func_name not in self.functions:\n",
        "                  raise NameError(f\"Function '{func_name}' is not defined\")\n",
        "                  args = [self.stack.pop() for _ in range(nargs)][::-1]\n",
        "                  expected_args = self.functions[func_name]['args']\n",
        "                  if len(args) != len(expected_args):\n",
        "                    raise TypeError(f\"Function '{func_name}' expected {len(expected_args)} args but got {len(args)}\")\n",
        "\n",
        "    # Continue with function call...\n",
        "\n",
        "\n",
        "            elif op == 'RET':\n",
        "                ret_val = self.stack.pop() if self.stack else None # Get return value if any\n",
        "\n",
        "                if self.frames:\n",
        "                    prev_pc, prev_local_env, prev_stack = self.frames.pop()\n",
        "                    pc = prev_pc\n",
        "                    local_env = prev_local_env\n",
        "                    self.stack = prev_stack # Restore caller's stack\n",
        "                    if ret_val is not None: # Push return value onto caller's stack\n",
        "                        self.stack.append(ret_val)\n",
        "                    continue\n",
        "                else:\n",
        "                    return  # end of main program\n",
        "                if not self.stack:\n",
        "                  raise RuntimeError(\"Return value missing on stack\")\n",
        "\n",
        "                  retval = self.stack.pop()\n",
        "    ...\n",
        "\n",
        "\n",
        "            elif op == 'LOAD':\n",
        "                var = instr[1]\n",
        "                if var in local_env:\n",
        "                    self.stack.append(local_env[var])\n",
        "                elif var in self.env:\n",
        "                    self.stack.append(self.env[var])\n",
        "                else:\n",
        "                    # This still needs proper scoping, but for now, raise an error if variable is not found\n",
        "                    raise NameError(f\"Undefined variable '{var}'\")\n",
        "                varname = instr[1]\n",
        "                if varname not in self.vars:\n",
        "                  raise NameError(f\"Variable '{varname}' is not defined\")\n",
        "                  self.stack.append(self.vars[varname])\n",
        "\n",
        "\n",
        "\n",
        "            elif op == 'STORE':\n",
        "                var = instr[1]\n",
        "                val = self.stack.pop()\n",
        "                if var in local_env:\n",
        "                    local_env[var] = val\n",
        "                else:\n",
        "                    self.env[var] = val\n",
        "\n",
        "\n",
        "            elif op == 'PUSH':\n",
        "                self.stack.append(instr[1])\n",
        "            elif op == 'PRINT':\n",
        "                print(self.stack.pop())\n",
        "            elif op == 'ADD':\n",
        "                b, a = self.stack.pop(), self.stack.pop()\n",
        "                self.stack.append(a + b)\n",
        "            elif op == 'SUB':\n",
        "                b, a = self.stack.pop(), self.stack.pop()\n",
        "                self.stack.append(a - b)\n",
        "            elif op == 'MUL':\n",
        "                b, a = self.stack.pop(), self.stack.pop()\n",
        "                self.stack.append(a * b)\n",
        "            elif op == 'DIV':\n",
        "                b, a = self.stack.pop(), self.stack.pop()\n",
        "                self.stack.append(a // b)\n",
        "                b = self.stack.pop()\n",
        "                a = self.stack.pop()\n",
        "                if b == 0:\n",
        "                  raise ZeroDivisionError(\"Division by zero\")\n",
        "                  self.stack.append(a // b)\n",
        "\n",
        "            elif op == 'EQ':\n",
        "                b, a = self.stack.pop(), self.stack.pop()\n",
        "                self.stack.append(a == b)\n",
        "            elif op == 'NE':\n",
        "                b, a = self.stack.pop(), self.stack.pop()\n",
        "                self.stack.append(a != b)\n",
        "            elif op == 'LE':\n",
        "                b, a = self.stack.pop(), self.stack.pop()\n",
        "                self.stack.append(a <= b)\n",
        "            elif op == 'GE':\n",
        "                b, a = self.stack.pop(), self.stack.pop()\n",
        "                self.stack.append(a >= b)\n",
        "            elif op == 'LT':\n",
        "                b, a = self.stack.pop(), self.stack.pop()\n",
        "                self.stack.append(a < b)\n",
        "            elif op == 'GT':\n",
        "                b, a = self.stack.pop(), self.stack.pop()\n",
        "                self.stack.append(a > b)\n",
        "            elif op == 'JUMP':\n",
        "                pc = instr[1]\n",
        "                continue\n",
        "            elif op == 'JUMP_IF_FALSE':\n",
        "                val = self.stack.pop()\n",
        "                if not val:\n",
        "                    pc = instr[1]\n",
        "                    continue\n",
        "            import time\n",
        "\n",
        "class VirtualMachine:\n",
        "    def __init__(self):\n",
        "        self.stack = []\n",
        "        self.vars = {}\n",
        "        self.call_stack = []\n",
        "        self.instruction_count = 0  # New\n",
        "\n",
        "    def run(self, bytecode, functions):\n",
        "        self.bytecode = bytecode\n",
        "        self.functions = functions\n",
        "        self.ip = 0\n",
        "        self.instruction_count = 0  # Reset\n",
        "\n",
        "        start_time = time.time()\n",
        "\n",
        "        while self.ip < len(self.bytecode):\n",
        "            instr = self.bytecode[self.ip]\n",
        "            self.ip += 1\n",
        "            self.run_instruction(instr)\n",
        "            self.instruction_count += 1\n",
        "\n",
        "        end_time = time.time()\n",
        "        elapsed = end_time - start_time\n",
        "\n",
        "        print(f\"\\n⏱️  Benchmark:\")\n",
        "        print(f\"Instructions executed: {self.instruction_count}\")\n",
        "        print(f\"Time taken: {elapsed:.6f} seconds\")\n",
        "        print(f\"Instructions per second: {self.instruction_count / elapsed:.2f} IPS\")\n",
        "\n",
        "\n",
        "\n",
        "            pc += 1"
      ],
      "metadata": {
        "id": "jFKMQGWBhBog"
      },
      "execution_count": 21,
      "outputs": []
    },
    {
      "cell_type": "code",
      "source": [
        "# Source code\n",
        "code = \"\"\"\n",
        "a = 5\n",
        "b = a + 3 * 2\n",
        "print(b)\n",
        "\"\"\"\n",
        "\n",
        "# Tokenize, Parse, Compile\n",
        "tokens = tokenize(code)\n",
        "parser = Parser(tokens)\n",
        "ast = parser.parse()\n",
        "\n",
        "compiler = Compiler()\n",
        "bytecode, functions = compiler.compile(ast)\n",
        "\n",
        "# Print bytecode (optional debug)\n",
        "print(\"Generated Bytecode:\")\n",
        "for instr in bytecode:\n",
        "    print(instr)\n",
        "\n",
        "# Run it\n",
        "vm = VirtualMachine()\n",
        "vm.run(bytecode, functions)"
      ],
      "metadata": {
        "colab": {
          "base_uri": "https://localhost:8080/"
        },
        "id": "QWIvD4zchEdL",
        "outputId": "00a6a37a-5115-473c-e824-c03e581328da"
      },
      "execution_count": null,
      "outputs": [
        {
          "output_type": "stream",
          "name": "stdout",
          "text": [
            "Generated Bytecode:\n",
            "('PUSH', 5)\n",
            "('STORE', 'a')\n",
            "('LOAD', 'a')\n",
            "('PUSH', 3)\n",
            "('PUSH', 2)\n",
            "('MUL',)\n",
            "('ADD',)\n",
            "('STORE', 'b')\n",
            "('LOAD', 'b')\n",
            "('PRINT',)\n",
            "11\n"
          ]
        }
      ]
    },
    {
      "cell_type": "code",
      "source": [
        "a = 10\n",
        "if a > 5:\n",
        "    print(a)\n",
        "else:\n",
        "    print(0)\n"
      ],
      "metadata": {
        "colab": {
          "base_uri": "https://localhost:8080/"
        },
        "id": "jMtGPNrSjdZU",
        "outputId": "d76dd4af-aebc-4eab-f3fd-84ddd00ed413"
      },
      "execution_count": null,
      "outputs": [
        {
          "output_type": "stream",
          "name": "stdout",
          "text": [
            "10\n"
          ]
        }
      ]
    },
    {
      "cell_type": "markdown",
      "source": [
        "# 🔹 Sample Language Syntax – `MyLang`\n",
        "\n",
        "The `MyLang` programming language is designed to be **simple, expressive, and close to Python-like syntax**. It currently supports:\n",
        "\n",
        "- Variables and expressions\n",
        "- Arithmetic operations\n",
        "- Print statements\n",
        "- Control flow: `if` / `else`\n",
        "- (Planned: `while`, functions, scoping)\n",
        "\n",
        "---\n",
        "\n",
        "## 🧮 Variables & Arithmetic\n",
        "\n",
        "```my\n",
        "a = 10\n",
        "b = a + 5 * 2\n",
        "print(b)  # Output: 20\n"
      ],
      "metadata": {
        "id": "W3qKze4bjg0Q"
      }
    },
    {
      "cell_type": "markdown",
      "source": [
        "# 🔹 Test Suite – Validating MyLang\n",
        "\n",
        "## 📌 Purpose\n",
        "This test suite runs multiple MyLang programs and compares their output to expected values. It helps us:\n",
        "- Catch regressions\n",
        "- Benchmark execution\n",
        "- Validate new features\n",
        "\n",
        "---\n",
        "\n",
        "## ✅ Features Tested\n",
        "- Arithmetic and operator precedence\n",
        "- Variable assignment and usage\n",
        "- `print()` statements\n",
        "- `if` / `else` branches\n",
        "\n",
        "---\n"
      ],
      "metadata": {
        "id": "u1XhQQxDjva2"
      }
    },
    {
      "cell_type": "code",
      "source": [
        "import io\n",
        "import sys\n",
        "from contextlib import redirect_stdout\n",
        "\n",
        "def run_program(code: str):\n",
        "    tokens = tokenize(code)\n",
        "    parser = Parser(tokens)\n",
        "    ast = parser.parse()\n",
        "\n",
        "    compiler = Compiler()\n",
        "    bytecode, functions = compiler.compile(ast) # Get both bytecode and functions\n",
        "\n",
        "    vm = VirtualMachine()\n",
        "    f = io.StringIO()\n",
        "    with redirect_stdout(f):\n",
        "        vm.run(bytecode, functions) # Pass both arguments\n",
        "    return f.getvalue().strip()\n",
        "\n",
        "def test_case(name, code, expected):\n",
        "    result = run_program(code)\n",
        "    status = \"✅ PASS\" if result == expected else \"❌ FAIL\"\n",
        "    print(f\"{status}: {name}\")\n",
        "    if result != expected:\n",
        "        print(f\"  Expected: {expected}\")\n",
        "        print(f\"  Got     : {result}\")\n",
        "    print()\n",
        "\n",
        "# ✅ Define Test Cases\n",
        "test_case(\"Simple Arithmetic\", \"\"\"\n",
        "a = 3 + 4 * 2\n",
        "print(a)\n",
        "\"\"\", \"11\")\n",
        "\n",
        "test_case(\"Variable Usage\", \"\"\"\n",
        "a = 5\n",
        "b = a + 2\n",
        "print(b)\n",
        "\"\"\", \"7\")\n",
        "\n",
        "test_case(\"Nested Arithmetic\", \"\"\"\n",
        "print((1 + 2) * (3 + 4))\n",
        "\"\"\", \"21\")\n",
        "\n",
        "test_case(\"If True\", \"\"\"\n",
        "a = 10\n",
        "if a > 5:\n",
        "    print(1)\n",
        "else:\n",
        "    print(0)\n",
        "\"\"\", \"1\")\n",
        "\n",
        "test_case(\"If False\", \"\"\"\n",
        "a = 2\n",
        "if a > 5:\n",
        "    print(1)\n",
        "else:\n",
        "    print(0)\n",
        "\"\"\", \"0\")\n",
        "test_case(\"While Loop\", \"\"\"\n",
        "a = 0\n",
        "while a < 3:\n",
        "    print(a)\n",
        "    a = a + 1\n",
        "\"\"\", \"0\\n1\\n2\")"
      ],
      "metadata": {
        "colab": {
          "base_uri": "https://localhost:8080/"
        },
        "id": "P9ulvNfBjycF",
        "outputId": "e6627563-599a-427d-e90c-8822a5be06f8"
      },
      "execution_count": 14,
      "outputs": [
        {
          "output_type": "stream",
          "name": "stdout",
          "text": [
            "✅ PASS: Simple Arithmetic\n",
            "\n",
            "✅ PASS: Variable Usage\n",
            "\n",
            "✅ PASS: Nested Arithmetic\n",
            "\n",
            "✅ PASS: If True\n",
            "\n",
            "✅ PASS: If False\n",
            "\n",
            "✅ PASS: While Loop\n",
            "\n"
          ]
        }
      ]
    },
    {
      "cell_type": "markdown",
      "source": [
        "# 🧠 Function Definition + Call\n",
        "\n",
        "## 📌 Purpose\n",
        "Add first-class function support to the language with arguments, return values, and call expressions.\n",
        "\n",
        "---\n",
        "\n",
        "## ✅ Syntax Supported\n",
        "\n",
        "```my\n",
        "def square(x):\n",
        "    return x * x\n",
        "\n",
        "print(square(5))\n"
      ],
      "metadata": {
        "id": "-gy6Hd-w71qX"
      }
    },
    {
      "cell_type": "code",
      "source": [],
      "metadata": {
        "id": "WmFimJvL_mvY"
      },
      "execution_count": null,
      "outputs": []
    },
    {
      "cell_type": "code",
      "metadata": {
        "colab": {
          "base_uri": "https://localhost:8080/"
        },
        "id": "db81c330",
        "outputId": "b07dce94-1247-483b-e9eb-b373fd5c9db7"
      },
      "source": [
        "code_to_test = \"\"\"\n",
        "def greet(name):\n",
        "    print(\"Hello, \")\n",
        "    print(name)\n",
        "\n",
        "greet(\"World\")\n",
        "\"\"\"\n",
        "\n",
        "try:\n",
        "    tokens = tokenize(code_to_test)\n",
        "    parser = Parser(tokens)\n",
        "    ast = parser.parse()\n",
        "    print(\"Parsing successful!\")\n",
        "    # Optional: Print the generated AST for inspection\n",
        "    # print(ast)\n",
        "except SyntaxError as e:\n",
        "    print(f\"Syntax Error during parsing: {e}\")\n",
        "except Exception as e:\n",
        "    print(f\"An unexpected error occurred during parsing: {e}\")"
      ],
      "execution_count": null,
      "outputs": [
        {
          "output_type": "stream",
          "name": "stdout",
          "text": [
            "Syntax Error during parsing: Unexpected character '\"' on line 3\n"
          ]
        }
      ]
    },
    {
      "cell_type": "code",
      "source": [
        "code = \"def square(x): return x * x\"\n",
        "for tok in tokenize(code):\n",
        "    print(tok)\n"
      ],
      "metadata": {
        "colab": {
          "base_uri": "https://localhost:8080/"
        },
        "id": "lMexOPhnI8vq",
        "outputId": "914ee11b-c790-4b64-824e-323f1e45b339"
      },
      "execution_count": null,
      "outputs": [
        {
          "output_type": "stream",
          "name": "stdout",
          "text": [
            "('DEF', 'def')\n",
            "('ID', 'square')\n",
            "('LPAREN', '(')\n",
            "('ID', 'x')\n",
            "('RPAREN', ')')\n",
            "('COLON', ':')\n",
            "('RETURN', 'return')\n",
            "('ID', 'x')\n",
            "('MUL', '*')\n",
            "('ID', 'x')\n"
          ]
        }
      ]
    },
    {
      "cell_type": "code",
      "source": [
        "code = \"\"\"\n",
        "def square(x):\n",
        "    return x * x\n",
        "\n",
        "print(square(5))\n",
        "\"\"\"\n",
        "\n",
        "tokens = tokenize(code)\n",
        "parser = Parser(tokens)\n",
        "ast = parser.parse()\n",
        "\n",
        "compiler = Compiler()\n",
        "bytecode, functions = compiler.compile(ast)\n",
        "\n",
        "print(\"Bytecode:\")\n",
        "for instr in bytecode:\n",
        "    print(instr)\n",
        "\n",
        "print(\"\\nRunning VM:\")\n",
        "vm = VirtualMachine()\n",
        "vm.run(bytecode, functions)\n"
      ],
      "metadata": {
        "colab": {
          "base_uri": "https://localhost:8080/"
        },
        "id": "J7RkkbAyLpAI",
        "outputId": "a01cbc07-e74f-4994-ac39-83d0e39afd92"
      },
      "execution_count": null,
      "outputs": [
        {
          "output_type": "stream",
          "name": "stdout",
          "text": [
            "Bytecode:\n",
            "('FUNC', 'square', ['x'])\n",
            "('LOAD', 'x')\n",
            "('LOAD', 'x')\n",
            "('MUL',)\n",
            "('RET',)\n",
            "('RET',)\n",
            "('PUSH', 5)\n",
            "('CALL', 'square', 1)\n",
            "('PRINT',)\n",
            "\n",
            "Running VM:\n"
          ]
        }
      ]
    },
    {
      "cell_type": "code",
      "source": [
        "for instr in bytecode:\n",
        "    print(instr)\n"
      ],
      "metadata": {
        "colab": {
          "base_uri": "https://localhost:8080/"
        },
        "id": "N0eVW1J4LPDJ",
        "outputId": "8777f2f0-9925-4633-e1f1-073b7b2ac521"
      },
      "execution_count": null,
      "outputs": [
        {
          "output_type": "stream",
          "name": "stdout",
          "text": [
            "('FUNC', 'square', ['x'])\n",
            "('LOAD', 'x')\n",
            "('LOAD', 'x')\n",
            "('MUL',)\n",
            "('RET',)\n",
            "('RET',)\n",
            "('PUSH', 5)\n",
            "('CALL', 'square', 1)\n",
            "('PRINT',)\n"
          ]
        }
      ]
    },
    {
      "cell_type": "code",
      "source": [
        "def square(x):\n",
        "    return x * x\n",
        "\n",
        "print(square(5))\n"
      ],
      "metadata": {
        "id": "_XCcn8IkMqyN",
        "outputId": "d1e95483-1aad-4110-c660-0c5eaf3be495",
        "colab": {
          "base_uri": "https://localhost:8080/"
        }
      },
      "execution_count": null,
      "outputs": [
        {
          "output_type": "stream",
          "name": "stdout",
          "text": [
            "25\n"
          ]
        }
      ]
    },
    {
      "cell_type": "markdown",
      "source": [
        "## 🔁 Return Statement Support\n",
        "\n",
        "We now support `RETURN` inside functions. When a `RETURN` statement is encountered, the function execution halts and returns the given value to the caller.\n",
        "\n",
        "### Example:\n",
        "\n",
        "```lang\n",
        "FUNC square(x)\n",
        "    RETURN x * x\n",
        "END\n",
        "\n",
        "PRINT square(5)\n"
      ],
      "metadata": {
        "id": "eYt-tkix8oS7"
      }
    },
    {
      "cell_type": "code",
      "metadata": {
        "colab": {
          "base_uri": "https://localhost:8080/"
        },
        "id": "2c32fc08",
        "outputId": "0c9a9754-3c07-4a7e-c337-2906605e01ae"
      },
      "source": [
        "# MyLang code as a Python string\n",
        "mylang_code = \"\"\"\n",
        "def square(x):\n",
        "    return x * x\n",
        "\n",
        "print(square(5))\n",
        "print(square(10))\n",
        "\"\"\"\n",
        "\n",
        "# Tokenize, Parse, Compile, and Run\n",
        "tokens = tokenize(mylang_code)\n",
        "parser = Parser(tokens)\n",
        "ast = parser.parse()\n",
        "\n",
        "compiler = Compiler()\n",
        "bytecode, functions = compiler.compile(ast)\n",
        "\n",
        "print(\"Generated Bytecode:\")\n",
        "for instr in bytecode:\n",
        "    print(instr)\n",
        "\n",
        "print(\"\\nRunning VM:\")\n",
        "vm = VirtualMachine()\n",
        "vm.run(bytecode, functions)"
      ],
      "execution_count": 24,
      "outputs": [
        {
          "output_type": "stream",
          "name": "stdout",
          "text": [
            "Generated Bytecode:\n",
            "('FUNC', 'square', ['x'])\n",
            "('LOAD', 'x')\n",
            "('LOAD', 'x')\n",
            "('MUL',)\n",
            "('RET',)\n",
            "('PUSH', 5)\n",
            "('CALL', 'square', 1)\n",
            "('PRINT',)\n",
            "('PUSH', 10)\n",
            "('CALL', 'square', 1)\n",
            "('PRINT',)\n",
            "\n",
            "Running VM:\n",
            "25\n",
            "100\n"
          ]
        }
      ]
    },
    {
      "cell_type": "markdown",
      "source": [
        "## 🧪 Standard Examples\n",
        "\n",
        "We've defined common usage patterns to test our language:\n",
        "- Function calls\n",
        "- Arithmetic\n",
        "- Nested functions\n",
        "\n",
        "These help demonstrate language completeness and can be reused for unit testing or benchmarks.\n"
      ],
      "metadata": {
        "id": "OEUYKkOLAvAh"
      }
    },
    {
      "cell_type": "code",
      "source": [
        "# 📦 Standard Examples to test our custom language\n",
        "\n",
        "examples = {\n",
        "    \"square\": \"\"\"\n",
        "def square(x):\n",
        "    return x * x\n",
        "\n",
        "print(square(5))\n",
        "print(square(10))\n",
        "\"\"\",\n",
        "    \"nested_calls\": \"\"\"\n",
        "def double(x):\n",
        "    return x * 2\n",
        "\n",
        "def add(a, b):\n",
        "    return a + b\n",
        "\n",
        "print(add(double(2), double(3)))\n",
        "\"\"\",\n",
        "    \"arithmetic\": \"\"\"\n",
        "x = 10\n",
        "y = 5\n",
        "z = x * y + 2\n",
        "print(z)\n",
        "\"\"\"\n",
        "}\n"
      ],
      "metadata": {
        "id": "1EBdDQG9AuuS"
      },
      "execution_count": 25,
      "outputs": []
    },
    {
      "cell_type": "code",
      "source": [
        "def run_example(name):\n",
        "    print(f\"\\n🔹 Running example: {name}\")\n",
        "    code = examples[name]\n",
        "    tokens = tokenize(code)\n",
        "    parser = Parser(tokens)\n",
        "    ast = parser.parse()\n",
        "    compiler = Compiler()\n",
        "    bytecode, functions = compiler.compile(ast)\n",
        "    print(\"Generated Bytecode:\")\n",
        "    for instr in bytecode:\n",
        "        print(instr)\n",
        "    print(\"Running VM Output:\")\n",
        "    vm = VirtualMachine()\n",
        "    vm.run(bytecode, functions)\n"
      ],
      "metadata": {
        "id": "T6vJFM88BISp"
      },
      "execution_count": 26,
      "outputs": []
    },
    {
      "cell_type": "code",
      "source": [
        "run_example(\"square\")\n",
        "run_example(\"nested_calls\")\n",
        "run_example(\"arithmetic\")\n"
      ],
      "metadata": {
        "colab": {
          "base_uri": "https://localhost:8080/"
        },
        "id": "97uN0oboBLuA",
        "outputId": "5ee76099-0b22-428b-e364-956a78ed2480"
      },
      "execution_count": 30,
      "outputs": [
        {
          "output_type": "stream",
          "name": "stdout",
          "text": [
            "\n",
            "🔹 Running example: square\n",
            "Generated Bytecode:\n",
            "('FUNC', 'square', ['x'])\n",
            "('LOAD', 'x')\n",
            "('LOAD', 'x')\n",
            "('MUL',)\n",
            "('RET',)\n",
            "('PUSH', 5)\n",
            "('CALL', 'square', 1)\n",
            "('PRINT',)\n",
            "('PUSH', 10)\n",
            "('CALL', 'square', 1)\n",
            "('PRINT',)\n",
            "Running VM Output:\n",
            "25\n",
            "100\n",
            "\n",
            "🔹 Running example: nested_calls\n",
            "Generated Bytecode:\n",
            "('FUNC', 'double', ['x'])\n",
            "('LOAD', 'x')\n",
            "('PUSH', 2)\n",
            "('MUL',)\n",
            "('RET',)\n",
            "('FUNC', 'add', ['a', 'b'])\n",
            "('LOAD', 'a')\n",
            "('LOAD', 'b')\n",
            "('ADD',)\n",
            "('RET',)\n",
            "('PUSH', 2)\n",
            "('CALL', 'double', 1)\n",
            "('PUSH', 3)\n",
            "('CALL', 'double', 1)\n",
            "('CALL', 'add', 2)\n",
            "('PRINT',)\n",
            "Running VM Output:\n",
            "10\n",
            "\n",
            "🔹 Running example: arithmetic\n",
            "Generated Bytecode:\n",
            "('PUSH', 10)\n",
            "('STORE', 'x')\n",
            "('PUSH', 5)\n",
            "('STORE', 'y')\n",
            "('LOAD', 'x')\n",
            "('LOAD', 'y')\n",
            "('MUL',)\n",
            "('PUSH', 2)\n",
            "('ADD',)\n",
            "('STORE', 'z')\n",
            "('LOAD', 'z')\n",
            "('PRINT',)\n",
            "Running VM Output:\n",
            "52\n"
          ]
        }
      ]
    },
    {
      "cell_type": "markdown",
      "source": [
        "## ⚙️ Virtual Machine Benchmark\n",
        "\n",
        "We added benchmarking support to measure:\n",
        "- Number of bytecode instructions executed\n",
        "- Total time taken to run the program\n",
        "- Instructions per second (IPS)\n",
        "\n",
        "This helps us evaluate the performance of our interpreter and plan future optimizations.\n"
      ],
      "metadata": {
        "id": "jG6luZ_CJySi"
      }
    },
    {
      "cell_type": "code",
      "source": [
        "run_example(\"square\")\n"
      ],
      "metadata": {
        "colab": {
          "base_uri": "https://localhost:8080/"
        },
        "id": "TY5PYoSLJzFT",
        "outputId": "0eed7b06-7a61-4445-f85a-b973de514426"
      },
      "execution_count": 31,
      "outputs": [
        {
          "output_type": "stream",
          "name": "stdout",
          "text": [
            "\n",
            "🔹 Running example: square\n",
            "Generated Bytecode:\n",
            "('FUNC', 'square', ['x'])\n",
            "('LOAD', 'x')\n",
            "('LOAD', 'x')\n",
            "('MUL',)\n",
            "('RET',)\n",
            "('PUSH', 5)\n",
            "('CALL', 'square', 1)\n",
            "('PRINT',)\n",
            "('PUSH', 10)\n",
            "('CALL', 'square', 1)\n",
            "('PRINT',)\n",
            "Running VM Output:\n",
            "25\n",
            "100\n"
          ]
        }
      ]
    },
    {
      "cell_type": "markdown",
      "source": [
        "## 🧯 Error Handling\n",
        "\n",
        "Our language now detects and reports:\n",
        "- ❌ Use of undefined variables or functions\n",
        "- ❌ Division by zero\n",
        "- ❌ Calling functions with the wrong number of arguments\n",
        "- ❌ Stack underflows on return\n",
        "\n",
        "This makes debugging easier and improves language robustness.\n"
      ],
      "metadata": {
        "id": "9jkZ0poKLL2B"
      }
    },
    {
      "cell_type": "markdown",
      "source": [],
      "metadata": {
        "id": "ZPYdNROuMtwp"
      }
    },
    {
      "cell_type": "code",
      "source": [
        "try:\n",
        "    run_program(\"\"\"\n",
        "print(x)  # x not defined\n",
        "\"\"\")\n",
        "    print(\"Expected NameError, but no error occurred.\")\n",
        "except NameError as e:\n",
        "    print(f\"Caught expected error: {e}\")\n",
        "except Exception as e:\n",
        "    print(f\"Caught unexpected error: {e}\")\n",
        "\n",
        "\n",
        "try:\n",
        "    run_program(\"\"\"\n",
        "def foo(x):\n",
        "    return x + 1\n",
        "print(foo())  # missing arg\n",
        "\"\"\")\n",
        "    print(\"Expected TypeError, but no error occurred.\")\n",
        "except TypeError as e:\n",
        "    print(f\"Caught expected error: {e}\")\n",
        "except Exception as e:\n",
        "    print(f\"Caught unexpected error: {e}\")\n",
        "\n",
        "\n",
        "try:\n",
        "    run_program(\"\"\"\n",
        "print(10 / 0)  # division by zero\n",
        "\"\"\")\n",
        "    print(\"Expected ZeroDivisionError, but no error occurred.\")\n",
        "except ZeroDivisionError as e:\n",
        "    print(f\"Caught expected error: {e}\")\n",
        "except Exception as e:\n",
        "    print(f\"Caught unexpected error: {e}\")"
      ],
      "metadata": {
        "colab": {
          "base_uri": "https://localhost:8080/"
        },
        "id": "G3yVqoATLLlV",
        "outputId": "b92c28ed-4cd8-416f-8769-f78fd03d4941"
      },
      "execution_count": 33,
      "outputs": [
        {
          "output_type": "stream",
          "name": "stdout",
          "text": [
            "Caught unexpected error: Unexpected character '#' on line 2\n",
            "Caught unexpected error: Unexpected character '#' on line 4\n",
            "Caught unexpected error: Unexpected character '#' on line 2\n"
          ]
        }
      ]
    },
    {
      "cell_type": "markdown",
      "source": [
        "## 🎯 AST and Bytecode Visualization\n",
        "\n",
        "We added an AST and Bytecode visualizer using Graphviz:\n",
        "\n",
        "- The AST graph shows how source code is parsed into hierarchical nodes.\n",
        "- The Bytecode graph shows the instruction flow for execution.\n",
        "\n",
        "This helps debug our compiler and explain our design better in presentations and interviews.\n"
      ],
      "metadata": {
        "id": "9IupPg9_NDXH"
      }
    },
    {
      "cell_type": "code",
      "source": [
        "!apt-get install graphviz\n",
        "!pip install graphviz\n"
      ],
      "metadata": {
        "colab": {
          "base_uri": "https://localhost:8080/"
        },
        "id": "HtLLl0hRNHAb",
        "outputId": "ab4d94ea-f7b4-49a2-a83e-b2df40a6619d"
      },
      "execution_count": 34,
      "outputs": [
        {
          "output_type": "stream",
          "name": "stdout",
          "text": [
            "Reading package lists... Done\n",
            "Building dependency tree... Done\n",
            "Reading state information... Done\n",
            "graphviz is already the newest version (2.42.2-6ubuntu0.1).\n",
            "0 upgraded, 0 newly installed, 0 to remove and 35 not upgraded.\n",
            "Requirement already satisfied: graphviz in /usr/local/lib/python3.11/dist-packages (0.21)\n"
          ]
        }
      ]
    },
    {
      "cell_type": "code",
      "source": [
        "from graphviz import Digraph\n",
        "\n",
        "def visualize_ast(node, graph=None, parent=None, count=[0]):\n",
        "    if graph is None:\n",
        "        graph = Digraph()\n",
        "\n",
        "    node_id = f\"node{count[0]}\"\n",
        "    count[0] += 1\n",
        "\n",
        "    label = type(node).__name__\n",
        "    if hasattr(node, 'name'):\n",
        "        label += f\" ({node.name})\"\n",
        "    elif hasattr(node, 'value'):\n",
        "        label += f\" ({node.value})\"\n",
        "\n",
        "    graph.node(node_id, label)\n",
        "\n",
        "    if parent:\n",
        "        graph.edge(parent, node_id)\n",
        "\n",
        "    for attr in vars(node).values():\n",
        "        if isinstance(attr, list):\n",
        "            for child in attr:\n",
        "                if hasattr(child, '__dict__'):\n",
        "                    visualize_ast(child, graph, node_id, count)\n",
        "        elif hasattr(attr, '__dict__'):\n",
        "            visualize_ast(attr, graph, node_id, count)\n",
        "\n",
        "    return graph\n"
      ],
      "metadata": {
        "id": "AQdxPAm2NLCe"
      },
      "execution_count": 35,
      "outputs": []
    },
    {
      "cell_type": "code",
      "source": [
        "# Parse the code\n",
        "code = \"\"\"\n",
        "def square(x):\n",
        "    return x * x\n",
        "\n",
        "print(square(5))\n",
        "\"\"\"\n",
        "tokens = tokenize(code)\n",
        "parser = Parser(tokens)\n",
        "ast = parser.parse()\n",
        "\n",
        "# Visualize\n",
        "graph = visualize_ast(ast)\n",
        "graph.render('ast', format='png', cleanup=True)\n",
        "from IPython.display import Image\n",
        "Image('ast.png')\n"
      ],
      "metadata": {
        "colab": {
          "base_uri": "https://localhost:8080/",
          "height": 556
        },
        "id": "TGuVhK-QNNnX",
        "outputId": "974109d0-18e3-4234-d2ce-63273dd8f5d1"
      },
      "execution_count": 36,
      "outputs": [
        {
          "output_type": "execute_result",
          "data": {
            "image/png": "[encoded data removed]",
            "text/plain": [
              "<IPython.core.display.Image object>"
            ]
          },
          "metadata": {},
          "execution_count": 36
        }
      ]
    },
    {
      "cell_type": "code",
      "source": [
        "def visualize_bytecode(bytecode):\n",
        "    graph = Digraph()\n",
        "    for i, instr in enumerate(bytecode):\n",
        "        label = f\"{i}: {instr[0]}\"\n",
        "        if len(instr) > 1:\n",
        "            label += \" \" + \" \".join(map(str, instr[1:]))\n",
        "        graph.node(f\"i{i}\", label)\n",
        "\n",
        "        if i < len(bytecode) - 1:\n",
        "            graph.edge(f\"i{i}\", f\"i{i+1}\")\n",
        "\n",
        "    return graph\n"
      ],
      "metadata": {
        "id": "LE5YlwooNRSS"
      },
      "execution_count": 37,
      "outputs": []
    },
    {
      "cell_type": "code",
      "source": [
        "# Visualize compiled bytecode\n",
        "compiler = Compiler()\n",
        "bytecode, functions = compiler.compile(ast)\n",
        "graph = visualize_bytecode(bytecode)\n",
        "graph.render('bytecode', format='png', cleanup=True)\n",
        "Image('bytecode.png')\n"
      ],
      "metadata": {
        "colab": {
          "base_uri": "https://localhost:8080/",
          "height": 748
        },
        "id": "PHPNHb7WNTog",
        "outputId": "2449ceb6-fe72-4a15-d7a0-2a91fca64903"
      },
      "execution_count": 38,
      "outputs": [
        {
          "output_type": "execute_result",
          "data": {
            "image/png": "[encoded data removed]",
            "text/plain": [
              "<IPython.core.display.Image object>"
            ]
          },
          "metadata": {},
          "execution_count": 38
        }
      ]
    }
  ]
}